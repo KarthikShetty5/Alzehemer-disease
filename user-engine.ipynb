{
 "cells": [
  {
   "cell_type": "code",
   "execution_count": null,
   "metadata": {},
   "outputs": [
    {
     "name": "stdout",
     "output_type": "stream",
     "text": [
      " * Serving Flask app '__main__'\n",
      " * Debug mode: off\n"
     ]
    },
    {
     "name": "stderr",
     "output_type": "stream",
     "text": [
      "WARNING: This is a development server. Do not use it in a production deployment. Use a production WSGI server instead.\n",
      " * Running on http://127.0.0.1:5000\n",
      "Press CTRL+C to quit\n",
      "127.0.0.1 - - [24/Aug/2025 13:34:18] \"GET / HTTP/1.1\" 200 -\n",
      "127.0.0.1 - - [24/Aug/2025 13:34:18] \"GET /static/assets/github.png HTTP/1.1\" 304 -\n",
      "127.0.0.1 - - [24/Aug/2025 13:34:18] \"GET /static/assets/linkedin.png HTTP/1.1\" 304 -\n",
      "127.0.0.1 - - [24/Aug/2025 13:34:18] \"GET /static/assets/twitter.png HTTP/1.1\" 304 -\n",
      "127.0.0.1 - - [24/Aug/2025 13:34:18] \"GET /static/assets/instagram.png HTTP/1.1\" 304 -\n",
      "127.0.0.1 - - [24/Aug/2025 13:34:18] \"GET /static/assets/pexels-tima-miroshnichenko-6010766.mp4 HTTP/1.1\" 206 -\n",
      "127.0.0.1 - - [24/Aug/2025 13:34:18] \"GET /static/assets/pexels-tima-miroshnichenko-6010766.mp4 HTTP/1.1\" 206 -\n",
      "[2025-08-24 13:34:26,367] ERROR in app: Exception on / [POST]\n",
      "Traceback (most recent call last):\n",
      "  File \"c:\\Users\\DELL\\AppData\\Local\\Programs\\Python\\Python312\\Lib\\site-packages\\flask\\app.py\", line 1473, in wsgi_app\n",
      "    response = self.full_dispatch_request()\n",
      "               ^^^^^^^^^^^^^^^^^^^^^^^^^^^^\n",
      "  File \"c:\\Users\\DELL\\AppData\\Local\\Programs\\Python\\Python312\\Lib\\site-packages\\flask\\app.py\", line 882, in full_dispatch_request\n",
      "    rv = self.handle_user_exception(e)\n",
      "         ^^^^^^^^^^^^^^^^^^^^^^^^^^^^^\n",
      "  File \"c:\\Users\\DELL\\AppData\\Local\\Programs\\Python\\Python312\\Lib\\site-packages\\flask\\app.py\", line 880, in full_dispatch_request\n",
      "    rv = self.dispatch_request()\n",
      "         ^^^^^^^^^^^^^^^^^^^^^^^\n",
      "  File \"c:\\Users\\DELL\\AppData\\Local\\Programs\\Python\\Python312\\Lib\\site-packages\\flask\\app.py\", line 865, in dispatch_request\n",
      "    return self.ensure_sync(self.view_functions[rule.endpoint])(**view_args)  # type: ignore[no-any-return]\n",
      "           ^^^^^^^^^^^^^^^^^^^^^^^^^^^^^^^^^^^^^^^^^^^^^^^^^^^^^^^^^^^^^^^^^\n",
      "  File \"C:\\Users\\DELL\\AppData\\Local\\Temp\\ipykernel_16660\\692312989.py\", line 32, in upload_image\n",
      "    model = tf.keras.models.load_model(\"model\")\n",
      "            ^^^^^^^^^^^^^^^^^^^^^^^^^^^^^^^^^^^\n",
      "  File \"c:\\Users\\DELL\\AppData\\Local\\Programs\\Python\\Python312\\Lib\\site-packages\\keras\\src\\saving\\saving_api.py\", line 206, in load_model\n",
      "    raise ValueError(\n",
      "ValueError: File format not supported: filepath=model. Keras 3 only supports V3 `.keras` files and legacy H5 format files (`.h5` extension). Note that the legacy SavedModel format is not supported by `load_model()` in Keras 3. In order to reload a TensorFlow SavedModel as an inference-only layer in Keras 3, use `keras.layers.TFSMLayer(model, call_endpoint='serving_default')` (note that your `call_endpoint` might have a different name).\n",
      "127.0.0.1 - - [24/Aug/2025 13:34:26] \"POST / HTTP/1.1\" 500 -\n"
     ]
    },
    {
     "name": "stdout",
     "output_type": "stream",
     "text": [
      "mildDem2.jpg\n"
     ]
    },
    {
     "name": "stderr",
     "output_type": "stream",
     "text": [
      "127.0.0.1 - - [24/Aug/2025 13:35:02] \"GET / HTTP/1.1\" 200 -\n"
     ]
    }
   ],
   "source": [
    "import os\n",
    "import urllib.request\n",
    "from flask import Flask, request, render_template\n",
    "from werkzeug.utils import secure_filename\n",
    "import numpy as np\n",
    "import tensorflow as tf\n",
    "from keras.layers import TFSMLayer\n",
    "\n",
    "app = Flask(__name__)\n",
    "    \n",
    "@app.route('/')\n",
    "def upload_form():\n",
    "    return render_template(\n",
    "        'index.html')\n",
    "\n",
    "@app.route('/', methods=['POST'])\n",
    "def upload_image():\n",
    "    file = request.files['file']\n",
    "    filepath = os.path.join(\"static/uploads\", secure_filename(file.filename))\n",
    "    file.save(filepath)\n",
    "\n",
    "    # Preprocess image\n",
    "    imvar = tf.keras.preprocessing.image.load_img(filepath, target_size=(176, 176))\n",
    "    imarr = tf.keras.preprocessing.image.img_to_array(imvar)\n",
    "    imarr = np.expand_dims(imarr, axis=0)  # (1,176,176,3)\n",
    "\n",
    "    # Load TF SavedModel\n",
    "    model2 = TFSMLayer(\"model\", call_endpoint=\"serving_default\")\n",
    "\n",
    "    # Call the model (returns a dict)\n",
    "    outputs = model2(imarr)\n",
    "    print(\"Model outputs:\", outputs.keys())   # Debug — see what keys exist\n",
    "    impred = list(outputs.values())[0].numpy()  # grab the first tensor\n",
    "\n",
    "    # Get predicted class\n",
    "    classcount = np.argmax(impred[0]) + 1  # +1 because dict starts at 1\n",
    "    \n",
    "    classdict = {\n",
    "        1: \"Mild Dementia\",\n",
    "        2: \"Moderate Dementia\",\n",
    "        3: \"No Dementia, Patient is Safe\",\n",
    "        4: \"Very Mild Dementia\"\n",
    "    }\n",
    "    print(\"Prediction:\", classdict[classcount])\n",
    "\n",
    "    return render_template(\n",
    "        'index.html'\n",
    "    )\n",
    "\n",
    "if __name__ == \"__main__\":\n",
    "    app.run()\n"
   ]
  },
  {
   "cell_type": "code",
   "execution_count": null,
   "metadata": {},
   "outputs": [],
   "source": []
  }
 ],
 "metadata": {
  "kernelspec": {
   "display_name": "Python 3",
   "language": "python",
   "name": "python3"
  },
  "language_info": {
   "codemirror_mode": {
    "name": "ipython",
    "version": 3
   },
   "file_extension": ".py",
   "mimetype": "text/x-python",
   "name": "python",
   "nbconvert_exporter": "python",
   "pygments_lexer": "ipython3",
   "version": "3.12.4"
  },
  "orig_nbformat": 4
 },
 "nbformat": 4,
 "nbformat_minor": 2
}
