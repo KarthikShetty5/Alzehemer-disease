{
 "cells": [
  {
   "cell_type": "code",
   "execution_count": null,
   "metadata": {},
   "outputs": [
    {
     "name": "stderr",
     "output_type": "stream",
     "text": [
      "c:\\Users\\DELL\\AppData\\Local\\Programs\\Python\\Python312\\Lib\\site-packages\\tensorflow\\python\\keras\\engine\\training_arrays_v1.py:37: UserWarning: A NumPy version >=1.23.5 and <2.3.0 is required for this version of SciPy (detected version 2.3.2)\n",
      "  from scipy.sparse import issparse  # pylint: disable=g-import-not-at-top\n"
     ]
    },
    {
     "name": "stdout",
     "output_type": "stream",
     "text": [
      " * Serving Flask app '__main__'\n",
      " * Debug mode: off\n"
     ]
    },
    {
     "name": "stderr",
     "output_type": "stream",
     "text": [
      "WARNING: This is a development server. Do not use it in a production deployment. Use a production WSGI server instead.\n",
      " * Running on http://127.0.0.1:5000\n",
      "Press CTRL+C to quit\n",
      "127.0.0.1 - - [28/Aug/2025 17:02:19] \"GET / HTTP/1.1\" 200 -\n",
      "127.0.0.1 - - [28/Aug/2025 17:02:19] \"GET /favicon.ico HTTP/1.1\" 404 -\n",
      "127.0.0.1 - - [28/Aug/2025 17:02:19] \"GET /static/pexels_shvetsa.jpg HTTP/1.1\" 200 -\n"
     ]
    }
   ],
   "source": [
    "import os\n",
    "import urllib.request\n",
    "from flask import Flask, request, render_template\n",
    "from werkzeug.utils import secure_filename\n",
    "import numpy as np\n",
    "import tensorflow as tf\n",
    "from keras.layers import TFSMLayer\n",
    "\n",
    "app = Flask(__name__)\n",
    "    \n",
    "@app.route('/')\n",
    "def upload_form():\n",
    "    return render_template(\n",
    "        'index.html')\n",
    "\n",
    "@app.route('/', methods=['POST'])\n",
    "def upload_image():\n",
    "    file = request.files['file']\n",
    "    filepath = os.path.join(\"static/uploads\", secure_filename(file.filename))\n",
    "    file.save(filepath)\n",
    "\n",
    "    # Preprocess image\n",
    "    imvar = tf.keras.preprocessing.image.load_img(filepath, target_size=(176, 176))\n",
    "    imarr = tf.keras.preprocessing.image.img_to_array(imvar)\n",
    "    imarr = np.expand_dims(imarr, axis=0)  # (1,176,176,3)\n",
    "\n",
    "    # Load TF SavedModel\n",
    "    model2 = TFSMLayer(\"model\", call_endpoint=\"serving_default\")\n",
    "\n",
    "    # Call the model (returns a dict)\n",
    "    outputs = model2(imarr)\n",
    "    print(\"Model outputs:\", outputs.keys())   # Debug — see what keys exist\n",
    "    impred = list(outputs.values())[0].numpy()  # grab the first tensor\n",
    "\n",
    "    # Get predicted class\n",
    "    classcount = np.argmax(impred[0]) + 1  # +1 because dict starts at 1\n",
    "    \n",
    "    classdict = {\n",
    "        1: \"Mild Dementia\",\n",
    "        2: \"Moderate Dementia\",\n",
    "        3: \"No Dementia, Patient is Safe\",\n",
    "        4: \"Very Mild Dementia\"\n",
    "    }\n",
    "    print(\"Prediction:\", classdict[classcount], filepath)\n",
    "\n",
    "    return render_template(\n",
    "        'index.html',\n",
    "        type=classdict[classcount],\n",
    "        image_file=\"uploads/\" + os.path.basename(filepath)\n",
    "    )\n",
    "\n",
    "if __name__ == \"__main__\":\n",
    "    app.run()\n"
   ]
  },
  {
   "cell_type": "code",
   "execution_count": null,
   "metadata": {},
   "outputs": [],
   "source": []
  }
 ],
 "metadata": {
  "kernelspec": {
   "display_name": "Python 3",
   "language": "python",
   "name": "python3"
  },
  "language_info": {
   "codemirror_mode": {
    "name": "ipython",
    "version": 3
   },
   "file_extension": ".py",
   "mimetype": "text/x-python",
   "name": "python",
   "nbconvert_exporter": "python",
   "pygments_lexer": "ipython3",
   "version": "3.12.4"
  },
  "orig_nbformat": 4
 },
 "nbformat": 4,
 "nbformat_minor": 2
}
